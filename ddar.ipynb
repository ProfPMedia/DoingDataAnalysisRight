{
 "cells": [
  {
   "cell_type": "markdown",
   "id": "cfadf2ca-20ee-4753-a961-2ced925cffa3",
   "metadata": {},
   "source": [
    "# DoingDataAnalysisRight\n",
    "Course materials for Doing Data Analysis Right\n",
    "\n",
    "**Inspiration for the Course**\n",
    "- https://developers.google.com/machine-learning/guides/good-data-analysis\n",
    "- https://youtu.be/_ZEWDGpM-vM\n",
    "- https://github.com/owid/owid-datasets/tree/master\n",
    "\n",
    "**Prerequisites**\n",
    "- Familiarity with a programming language, preferably Python, although the code will be accessible, so if you have exposure (proficiency) with another language, you should be able to follow along just fine.\n",
    "- Basic understanding of descriptive statistics like a mean, median, or standard deviation.\n",
    "- An keen interest in the methods and art form of doing data analysis\n",
    "\n",
    "**References**\n",
    "- https://docs.python.org/3.9/reference/index.html\n",
    "- https://pandas.pydata.org/docs/whatsnew/v1.5.3.html#\n",
    "- https://plotly.com/python/plotly-express/\n",
    "\n",
    "After finishing this course you will be able to analyze a complex dataset of your choosing for the purpose of informing better decision making.  This will be facilitated by an illustrated end to end example with clear and consise description of how and why to perform each step of the analysis process and ultimately communicate your results to a non-technical audience."
   ]
  },
  {
   "cell_type": "markdown",
   "id": "389b0edf-9530-4a2a-a179-02cce08a2caa",
   "metadata": {},
   "source": [
    "# Introduction\n",
    "Welcome to the world of data analysis, where deriving truth and insight from a vast sea of data is a powerful yet challenging endeavor. As data analysts and data-minded engineers, our mission is to develop a reputation for making credible pronouncements from data. But what exactly sets apart the best analysts from the rest? You might have heard adjectives like \"careful\" and \"methodical,\" but what do these experts actually do to earn that praise?\n",
    "\n",
    "This question becomes particularly intriguing when we consider the type of data we regularly encounter, much like that at Google. Our datasets are not only massive but also incredibly rich, with each data point comprising numerous attributes. Combine this complexity with temporal sequences of events for a single user, and we're faced with an overwhelming number of ways to analyze the data. Unlike typical academic psychology experiments where researchers can examine every single data point with ease, our large, high-dimensional datasets present unique challenges that require a distinct approach.\n",
    "\n",
    "Good data analysis is indispensable, not just for tech giants like Google but for businesses and organizations worldwide. For instance, in the medical field, analyzing patient data can lead to groundbreaking treatment discoveries. In finance, data-driven insights can identify potential market trends and risks. In climate science, data analysis helps predict and mitigate the impact of natural disasters.\n",
    "\n",
    "The consequences of poor data analysis can be dire, too. Misinterpreting data may lead to flawed conclusions, impacting critical decision-making. Consider a transportation company that failed to analyze customer feedback data effectively. As a result, they missed an opportunity to address recurring complaints about service delays, leading to a decline in customer satisfaction and loyalty.\n",
    "\n",
    "In conclusion, data analysis done right is not just about crunching numbers; it's about meticulousness, curiosity, and the ability to communicate effectively. Throughout this course, we'll equip you with the tools and mindset to approach data analysis confidently, allowing you to make credible pronouncements that drive real-world impact. So, let's embark on this exciting journey together and unleash the true potential of data analysis!"
   ]
  },
  {
   "cell_type": "markdown",
   "id": "5082f78b-7965-47a0-b6c4-2056be2d9ba8",
   "metadata": {},
   "source": [
    "# Our Working Example\n",
    "In this course, we will embark on a crucial working example that aims to address one of the most pressing questions of our time: how can we transition to a greener energy profile while considering the trade-offs involved in land use?\n",
    "\n",
    "As we confront the challenges of global warming, reshaping our energy production is a paramount concern. The shift from traditional energy sources to more sustainable yet potentially land-intensive alternatives demands careful analysis and strategic decision-making. Our working example will revolve around quantifying the land requirements for this transition, providing essential insights for informed investments in renewable energy.\n",
    "\n",
    "By exploring the delicate balance between environmental impact and energy sustainability, you will develop the skills to navigate complex energy datasets and draw meaningful conclusions. Let's join forces to understand the data-driven pathways to a greener and more sustainable future. Together, we can make a tangible difference in combating climate change and shaping a cleaner world for generations to come."
   ]
  },
  {
   "cell_type": "markdown",
   "id": "f8839615-7b67-4fc1-a4a3-462c283f867e",
   "metadata": {},
   "source": [
    "# Course Overview\n",
    "In this course, we will embark on a journey through three crucial aspects of data analysis that will equip you with the skills to tackle these challenges with confidence and precision. \n",
    "\n",
    "**1. Technical: Unleashing the Power of Data Manipulation and Examination**\n",
    "\n",
    "We'll start by mastering the technical tools and techniques necessary to manipulate and examine data effectively. From data wrangling and cleaning to data visualization and statistical analysis, you'll learn how to unleash the potential hidden within the data. \n",
    "\n",
    "**2. Process: Navigating the Data Analysis Journey**\n",
    "\n",
    "Next, we'll guide you through a structured process to approach your data analysis. We'll explore the right questions to ask, how to define clear objectives, and what essential checks to perform to ensure the integrity of your analysis. \n",
    "\n",
    "**3. Mindset: Collaboration and Communication for Impactful Insights**\n",
    "\n",
    "Data analysis is not a solitary endeavor. It requires collaboration and effective communication to translate complex findings into actionable insights. We'll delve into the art of presenting data-driven conclusions to potentially non-data literate stakeholders. "
   ]
  },
  {
   "cell_type": "code",
   "execution_count": 47,
   "id": "8870ee80-3f59-4fcd-be07-412a889ac21b",
   "metadata": {},
   "outputs": [],
   "source": [
    "#!pip install -q -r requirements.txt"
   ]
  },
  {
   "cell_type": "code",
   "execution_count": 32,
   "id": "dc8ff894-e651-4a9c-97cc-400819e3034e",
   "metadata": {},
   "outputs": [],
   "source": [
    "import pandas as pd\n",
    "import plotly.express as px\n",
    "from analysis_includes.includes import get_url_input\n",
    "import sweetviz as sv"
   ]
  },
  {
   "cell_type": "code",
   "execution_count": 40,
   "id": "fbc0e9b3-21b5-4d7c-a89a-6321ede9e950",
   "metadata": {},
   "outputs": [
    {
     "name": "stdin",
     "output_type": "stream",
     "text": [
      "Please enter the data URL from video:  https://bit.ly/44KB6d3\n"
     ]
    }
   ],
   "source": [
    "# https://bit.ly/44KB6d3\n",
    "cb = pd.read_csv(get_url_input())"
   ]
  },
  {
   "cell_type": "code",
   "execution_count": 42,
   "id": "0ccbf4d0-dc07-431c-ae30-4391662a5c56",
   "metadata": {},
   "outputs": [
    {
     "data": {
      "text/html": [
       "<div>\n",
       "<style scoped>\n",
       "    .dataframe tbody tr th:only-of-type {\n",
       "        vertical-align: middle;\n",
       "    }\n",
       "\n",
       "    .dataframe tbody tr th {\n",
       "        vertical-align: top;\n",
       "    }\n",
       "\n",
       "    .dataframe thead th {\n",
       "        text-align: right;\n",
       "    }\n",
       "</style>\n",
       "<table border=\"1\" class=\"dataframe\">\n",
       "  <thead>\n",
       "    <tr style=\"text-align: right;\">\n",
       "      <th></th>\n",
       "      <th>column</th>\n",
       "      <th>description</th>\n",
       "      <th>source</th>\n",
       "    </tr>\n",
       "  </thead>\n",
       "  <tbody>\n",
       "    <tr>\n",
       "      <th>0</th>\n",
       "      <td>country</td>\n",
       "      <td>Geographic location</td>\n",
       "      <td>Our World in Data</td>\n",
       "    </tr>\n",
       "    <tr>\n",
       "      <th>1</th>\n",
       "      <td>year</td>\n",
       "      <td>Year of observation</td>\n",
       "      <td>Our World in Data</td>\n",
       "    </tr>\n",
       "    <tr>\n",
       "      <th>2</th>\n",
       "      <td>iso_code</td>\n",
       "      <td>ISO 3166-1 alpha-3 three-letter country codes</td>\n",
       "      <td>International Organization for Standardization</td>\n",
       "    </tr>\n",
       "    <tr>\n",
       "      <th>3</th>\n",
       "      <td>population</td>\n",
       "      <td>Population</td>\n",
       "      <td>Calculated by Our World in Data based on diffe...</td>\n",
       "    </tr>\n",
       "    <tr>\n",
       "      <th>4</th>\n",
       "      <td>gdp</td>\n",
       "      <td>Total real gross domestic product, inflation-a...</td>\n",
       "      <td>Maddison Project Database</td>\n",
       "    </tr>\n",
       "  </tbody>\n",
       "</table>\n",
       "</div>"
      ],
      "text/plain": [
       "       column                                        description  \\\n",
       "0     country                                Geographic location   \n",
       "1        year                                Year of observation   \n",
       "2    iso_code      ISO 3166-1 alpha-3 three-letter country codes   \n",
       "3  population                                         Population   \n",
       "4         gdp  Total real gross domestic product, inflation-a...   \n",
       "\n",
       "                                              source  \n",
       "0                                  Our World in Data  \n",
       "1                                  Our World in Data  \n",
       "2     International Organization for Standardization  \n",
       "3  Calculated by Our World in Data based on diffe...  \n",
       "4                          Maddison Project Database  "
      ]
     },
     "execution_count": 42,
     "metadata": {},
     "output_type": "execute_result"
    }
   ],
   "source": [
    "cb.head()"
   ]
  },
  {
   "cell_type": "code",
   "execution_count": 43,
   "id": "677c65ef-a31a-48f5-a86b-05ae18c788ad",
   "metadata": {},
   "outputs": [
    {
     "name": "stdin",
     "output_type": "stream",
     "text": [
      "Please enter the data URL from video:  https://bit.ly/3qe6IZi\n"
     ]
    }
   ],
   "source": [
    "# https://bit.ly/3qe6IZi\n",
    "df = pd.read_csv(get_url_input())"
   ]
  },
  {
   "cell_type": "code",
   "execution_count": 44,
   "id": "130df7f8-5166-480d-b204-3b5fd1d9b63b",
   "metadata": {},
   "outputs": [
    {
     "data": {
      "application/json": {
       "ascii": false,
       "bar_format": "{desc:45}|{bar}| [{percentage:3.0f}%]   {elapsed} -> ({remaining} left)",
       "colour": null,
       "elapsed": 0.021376609802246094,
       "initial": 0,
       "n": 0,
       "ncols": null,
       "nrows": null,
       "postfix": null,
       "prefix": "",
       "rate": null,
       "total": 21,
       "unit": "it",
       "unit_divisor": 1000,
       "unit_scale": false
      },
      "application/vnd.jupyter.widget-view+json": {
       "model_id": "1175f46383d44642a5ed824ff0e8118b",
       "version_major": 2,
       "version_minor": 0
      },
      "text/plain": [
       "                                             |          | [  0%]   00:00 -> (? left)"
      ]
     },
     "metadata": {},
     "output_type": "display_data"
    },
    {
     "name": "stdout",
     "output_type": "stream",
     "text": [
      "Report SWEETVIZ_REPORT.html was generated! NOTEBOOK/COLAB USERS: the web browser MAY not pop up, regardless, the report IS saved in your notebook/colab files.\n"
     ]
    }
   ],
   "source": [
    "my_report = sv.analyze(df[df.columns[0:20]])\n",
    "my_report.show_html()"
   ]
  },
  {
   "cell_type": "code",
   "execution_count": null,
   "id": "351b73cd-88a1-4c11-9973-5cae2c95300e",
   "metadata": {},
   "outputs": [],
   "source": []
  }
 ],
 "metadata": {
  "kernelspec": {
   "display_name": "Python 3 (ipykernel)",
   "language": "python",
   "name": "python3"
  },
  "language_info": {
   "codemirror_mode": {
    "name": "ipython",
    "version": 3
   },
   "file_extension": ".py",
   "mimetype": "text/x-python",
   "name": "python",
   "nbconvert_exporter": "python",
   "pygments_lexer": "ipython3",
   "version": "3.9.15"
  }
 },
 "nbformat": 4,
 "nbformat_minor": 5
}
